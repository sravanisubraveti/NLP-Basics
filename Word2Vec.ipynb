{
  "nbformat": 4,
  "nbformat_minor": 0,
  "metadata": {
    "colab": {
      "name": "Word2Vec.ipynb",
      "provenance": []
    },
    "kernelspec": {
      "name": "python3",
      "display_name": "Python 3"
    },
    "language_info": {
      "name": "python"
    },
    "accelerator": "GPU"
  },
  "cells": [
    {
      "cell_type": "code",
      "metadata": {
        "id": "cPAj4wEQ_gGW"
      },
      "source": [
        "import nltk\n",
        "import re\n",
        "from gensim.models import Word2Vec\n",
        "from nltk.corpus import stopwords"
      ],
      "execution_count": 2,
      "outputs": []
    },
    {
      "cell_type": "code",
      "metadata": {
        "colab": {
          "base_uri": "https://localhost:8080/"
        },
        "id": "Tf837KgxEk7n",
        "outputId": "5bf016f6-036b-47ea-8a81-fe93bcd69ce0"
      },
      "source": [
        "nltk.download('punkt')\n",
        "nltk.download('stopwords')"
      ],
      "execution_count": 3,
      "outputs": [
        {
          "output_type": "stream",
          "name": "stdout",
          "text": [
            "[nltk_data] Downloading package punkt to /root/nltk_data...\n",
            "[nltk_data]   Unzipping tokenizers/punkt.zip.\n",
            "[nltk_data] Downloading package stopwords to /root/nltk_data...\n",
            "[nltk_data]   Unzipping corpora/stopwords.zip.\n"
          ]
        },
        {
          "output_type": "execute_result",
          "data": {
            "text/plain": [
              "True"
            ]
          },
          "metadata": {},
          "execution_count": 3
        }
      ]
    },
    {
      "cell_type": "code",
      "metadata": {
        "id": "DDC4nmf6DHRs"
      },
      "source": [
        "paragraph = \"\"\"I have three visions for India. In 3000 years of our history, people from all over \n",
        "               the world have come and invaded us, captured our lands, conquered our minds. \n",
        "               From Alexander onwards, the Greeks, the Turks, the Moguls, the Portuguese, the British,\n",
        "               the French, the Dutch, all of them came and looted us, took over what was ours. \n",
        "               Yet we have not done this to any other nation. We have not conquered anyone. \n",
        "               We have not grabbed their land, their culture, \n",
        "               their history and tried to enforce our way of life on them. \n",
        "               Why? Because we respect the freedom of others.That is why my \n",
        "               first vision is that of freedom. I believe that India got its first vision of \n",
        "               this in 1857, when we started the War of Independence. It is this freedom that\n",
        "               we must protect and nurture and build on. If we are not free, no one will respect us.\n",
        "               My second vision for India’s development. For fifty years we have been a developing nation.\n",
        "               It is time we see ourselves as a developed nation. We are among the top 5 nations of the world\n",
        "               in terms of GDP. We have a 10 percent growth rate in most areas. Our poverty levels are falling.\n",
        "               Our achievements are being globally recognised today. Yet we lack the self-confidence to\n",
        "               see ourselves as a developed nation, self-reliant and self-assured. Isn’t this incorrect?\n",
        "               I have a third vision. India must stand up to the world. Because I believe that unless India \n",
        "               stands up to the world, no one will respect us. Only strength respects strength. We must be \n",
        "               strong not only as a military power but also as an economic power. Both must go hand-in-hand. \n",
        "               My good fortune was to have worked with three great minds. Dr. Vikram Sarabhai of the Dept. of \n",
        "               space, Professor Satish Dhawan, who succeeded him and Dr. Brahm Prakash, father of nuclear material.\n",
        "               I was lucky to have worked with all three of them closely and consider this the great opportunity of my life. \n",
        "               I see four milestones in my career\"\"\""
      ],
      "execution_count": 4,
      "outputs": []
    },
    {
      "cell_type": "code",
      "metadata": {
        "id": "lpZaw5_CDTbQ"
      },
      "source": [
        "for i in range(len(paragraph)):\n",
        "  text = re.sub(r'\\[[0-9]*\\]',' ',paragraph)\n",
        "  text = re.sub(r'\\s+', ' ',text)\n",
        "  text = text.lower()\n",
        "  text = re.sub(r'\\d', ' ',text)\n",
        "  text = re.sub(r'\\s+', ' ',text)"
      ],
      "execution_count": 5,
      "outputs": []
    },
    {
      "cell_type": "code",
      "metadata": {
        "colab": {
          "base_uri": "https://localhost:8080/",
          "height": 103
        },
        "id": "G85LCXiYD6aK",
        "outputId": "5db6ec4b-4037-4ead-ec99-4edb642369a0"
      },
      "source": [
        "text"
      ],
      "execution_count": 6,
      "outputs": [
        {
          "output_type": "execute_result",
          "data": {
            "application/vnd.google.colaboratory.intrinsic+json": {
              "type": "string"
            },
            "text/plain": [
              "'i have three visions for india. in years of our history, people from all over the world have come and invaded us, captured our lands, conquered our minds. from alexander onwards, the greeks, the turks, the moguls, the portuguese, the british, the french, the dutch, all of them came and looted us, took over what was ours. yet we have not done this to any other nation. we have not conquered anyone. we have not grabbed their land, their culture, their history and tried to enforce our way of life on them. why? because we respect the freedom of others.that is why my first vision is that of freedom. i believe that india got its first vision of this in , when we started the war of independence. it is this freedom that we must protect and nurture and build on. if we are not free, no one will respect us. my second vision for india’s development. for fifty years we have been a developing nation. it is time we see ourselves as a developed nation. we are among the top nations of the world in terms of gdp. we have a percent growth rate in most areas. our poverty levels are falling. our achievements are being globally recognised today. yet we lack the self-confidence to see ourselves as a developed nation, self-reliant and self-assured. isn’t this incorrect? i have a third vision. india must stand up to the world. because i believe that unless india stands up to the world, no one will respect us. only strength respects strength. we must be strong not only as a military power but also as an economic power. both must go hand-in-hand. my good fortune was to have worked with three great minds. dr. vikram sarabhai of the dept. of space, professor satish dhawan, who succeeded him and dr. brahm prakash, father of nuclear material. i was lucky to have worked with all three of them closely and consider this the great opportunity of my life. i see four milestones in my career'"
            ]
          },
          "metadata": {},
          "execution_count": 6
        }
      ]
    },
    {
      "cell_type": "code",
      "metadata": {
        "id": "NC5IGbcsD7uL"
      },
      "source": [
        "sentences = nltk.sent_tokenize(text)"
      ],
      "execution_count": 7,
      "outputs": []
    },
    {
      "cell_type": "code",
      "metadata": {
        "colab": {
          "base_uri": "https://localhost:8080/"
        },
        "id": "r3QeMJc2Eh_t",
        "outputId": "e954093e-b8fe-4998-ccd3-f1b6662bf27b"
      },
      "source": [
        "sentences"
      ],
      "execution_count": 8,
      "outputs": [
        {
          "output_type": "execute_result",
          "data": {
            "text/plain": [
              "['i have three visions for india.',\n",
              " 'in years of our history, people from all over the world have come and invaded us, captured our lands, conquered our minds.',\n",
              " 'from alexander onwards, the greeks, the turks, the moguls, the portuguese, the british, the french, the dutch, all of them came and looted us, took over what was ours.',\n",
              " 'yet we have not done this to any other nation.',\n",
              " 'we have not conquered anyone.',\n",
              " 'we have not grabbed their land, their culture, their history and tried to enforce our way of life on them.',\n",
              " 'why?',\n",
              " 'because we respect the freedom of others.that is why my first vision is that of freedom.',\n",
              " 'i believe that india got its first vision of this in , when we started the war of independence.',\n",
              " 'it is this freedom that we must protect and nurture and build on.',\n",
              " 'if we are not free, no one will respect us.',\n",
              " 'my second vision for india’s development.',\n",
              " 'for fifty years we have been a developing nation.',\n",
              " 'it is time we see ourselves as a developed nation.',\n",
              " 'we are among the top nations of the world in terms of gdp.',\n",
              " 'we have a percent growth rate in most areas.',\n",
              " 'our poverty levels are falling.',\n",
              " 'our achievements are being globally recognised today.',\n",
              " 'yet we lack the self-confidence to see ourselves as a developed nation, self-reliant and self-assured.',\n",
              " 'isn’t this incorrect?',\n",
              " 'i have a third vision.',\n",
              " 'india must stand up to the world.',\n",
              " 'because i believe that unless india stands up to the world, no one will respect us.',\n",
              " 'only strength respects strength.',\n",
              " 'we must be strong not only as a military power but also as an economic power.',\n",
              " 'both must go hand-in-hand.',\n",
              " 'my good fortune was to have worked with three great minds.',\n",
              " 'dr. vikram sarabhai of the dept.',\n",
              " 'of space, professor satish dhawan, who succeeded him and dr. brahm prakash, father of nuclear material.',\n",
              " 'i was lucky to have worked with all three of them closely and consider this the great opportunity of my life.',\n",
              " 'i see four milestones in my career']"
            ]
          },
          "metadata": {},
          "execution_count": 8
        }
      ]
    },
    {
      "cell_type": "code",
      "metadata": {
        "id": "9iWm9AFMEojD"
      },
      "source": [
        "sentences = [nltk.word_tokenize(sentence) for sentence in sentences]"
      ],
      "execution_count": 9,
      "outputs": []
    },
    {
      "cell_type": "code",
      "metadata": {
        "colab": {
          "base_uri": "https://localhost:8080/"
        },
        "id": "Xn1-jFb2E2JD",
        "outputId": "2e1fad25-8ef9-455b-f0f9-06303434d9f1"
      },
      "source": [
        "sentences"
      ],
      "execution_count": 10,
      "outputs": [
        {
          "output_type": "execute_result",
          "data": {
            "text/plain": [
              "[['i', 'have', 'three', 'visions', 'for', 'india', '.'],\n",
              " ['in',\n",
              "  'years',\n",
              "  'of',\n",
              "  'our',\n",
              "  'history',\n",
              "  ',',\n",
              "  'people',\n",
              "  'from',\n",
              "  'all',\n",
              "  'over',\n",
              "  'the',\n",
              "  'world',\n",
              "  'have',\n",
              "  'come',\n",
              "  'and',\n",
              "  'invaded',\n",
              "  'us',\n",
              "  ',',\n",
              "  'captured',\n",
              "  'our',\n",
              "  'lands',\n",
              "  ',',\n",
              "  'conquered',\n",
              "  'our',\n",
              "  'minds',\n",
              "  '.'],\n",
              " ['from',\n",
              "  'alexander',\n",
              "  'onwards',\n",
              "  ',',\n",
              "  'the',\n",
              "  'greeks',\n",
              "  ',',\n",
              "  'the',\n",
              "  'turks',\n",
              "  ',',\n",
              "  'the',\n",
              "  'moguls',\n",
              "  ',',\n",
              "  'the',\n",
              "  'portuguese',\n",
              "  ',',\n",
              "  'the',\n",
              "  'british',\n",
              "  ',',\n",
              "  'the',\n",
              "  'french',\n",
              "  ',',\n",
              "  'the',\n",
              "  'dutch',\n",
              "  ',',\n",
              "  'all',\n",
              "  'of',\n",
              "  'them',\n",
              "  'came',\n",
              "  'and',\n",
              "  'looted',\n",
              "  'us',\n",
              "  ',',\n",
              "  'took',\n",
              "  'over',\n",
              "  'what',\n",
              "  'was',\n",
              "  'ours',\n",
              "  '.'],\n",
              " ['yet',\n",
              "  'we',\n",
              "  'have',\n",
              "  'not',\n",
              "  'done',\n",
              "  'this',\n",
              "  'to',\n",
              "  'any',\n",
              "  'other',\n",
              "  'nation',\n",
              "  '.'],\n",
              " ['we', 'have', 'not', 'conquered', 'anyone', '.'],\n",
              " ['we',\n",
              "  'have',\n",
              "  'not',\n",
              "  'grabbed',\n",
              "  'their',\n",
              "  'land',\n",
              "  ',',\n",
              "  'their',\n",
              "  'culture',\n",
              "  ',',\n",
              "  'their',\n",
              "  'history',\n",
              "  'and',\n",
              "  'tried',\n",
              "  'to',\n",
              "  'enforce',\n",
              "  'our',\n",
              "  'way',\n",
              "  'of',\n",
              "  'life',\n",
              "  'on',\n",
              "  'them',\n",
              "  '.'],\n",
              " ['why', '?'],\n",
              " ['because',\n",
              "  'we',\n",
              "  'respect',\n",
              "  'the',\n",
              "  'freedom',\n",
              "  'of',\n",
              "  'others.that',\n",
              "  'is',\n",
              "  'why',\n",
              "  'my',\n",
              "  'first',\n",
              "  'vision',\n",
              "  'is',\n",
              "  'that',\n",
              "  'of',\n",
              "  'freedom',\n",
              "  '.'],\n",
              " ['i',\n",
              "  'believe',\n",
              "  'that',\n",
              "  'india',\n",
              "  'got',\n",
              "  'its',\n",
              "  'first',\n",
              "  'vision',\n",
              "  'of',\n",
              "  'this',\n",
              "  'in',\n",
              "  ',',\n",
              "  'when',\n",
              "  'we',\n",
              "  'started',\n",
              "  'the',\n",
              "  'war',\n",
              "  'of',\n",
              "  'independence',\n",
              "  '.'],\n",
              " ['it',\n",
              "  'is',\n",
              "  'this',\n",
              "  'freedom',\n",
              "  'that',\n",
              "  'we',\n",
              "  'must',\n",
              "  'protect',\n",
              "  'and',\n",
              "  'nurture',\n",
              "  'and',\n",
              "  'build',\n",
              "  'on',\n",
              "  '.'],\n",
              " ['if',\n",
              "  'we',\n",
              "  'are',\n",
              "  'not',\n",
              "  'free',\n",
              "  ',',\n",
              "  'no',\n",
              "  'one',\n",
              "  'will',\n",
              "  'respect',\n",
              "  'us',\n",
              "  '.'],\n",
              " ['my', 'second', 'vision', 'for', 'india', '’', 's', 'development', '.'],\n",
              " ['for',\n",
              "  'fifty',\n",
              "  'years',\n",
              "  'we',\n",
              "  'have',\n",
              "  'been',\n",
              "  'a',\n",
              "  'developing',\n",
              "  'nation',\n",
              "  '.'],\n",
              " ['it',\n",
              "  'is',\n",
              "  'time',\n",
              "  'we',\n",
              "  'see',\n",
              "  'ourselves',\n",
              "  'as',\n",
              "  'a',\n",
              "  'developed',\n",
              "  'nation',\n",
              "  '.'],\n",
              " ['we',\n",
              "  'are',\n",
              "  'among',\n",
              "  'the',\n",
              "  'top',\n",
              "  'nations',\n",
              "  'of',\n",
              "  'the',\n",
              "  'world',\n",
              "  'in',\n",
              "  'terms',\n",
              "  'of',\n",
              "  'gdp',\n",
              "  '.'],\n",
              " ['we', 'have', 'a', 'percent', 'growth', 'rate', 'in', 'most', 'areas', '.'],\n",
              " ['our', 'poverty', 'levels', 'are', 'falling', '.'],\n",
              " ['our',\n",
              "  'achievements',\n",
              "  'are',\n",
              "  'being',\n",
              "  'globally',\n",
              "  'recognised',\n",
              "  'today',\n",
              "  '.'],\n",
              " ['yet',\n",
              "  'we',\n",
              "  'lack',\n",
              "  'the',\n",
              "  'self-confidence',\n",
              "  'to',\n",
              "  'see',\n",
              "  'ourselves',\n",
              "  'as',\n",
              "  'a',\n",
              "  'developed',\n",
              "  'nation',\n",
              "  ',',\n",
              "  'self-reliant',\n",
              "  'and',\n",
              "  'self-assured',\n",
              "  '.'],\n",
              " ['isn', '’', 't', 'this', 'incorrect', '?'],\n",
              " ['i', 'have', 'a', 'third', 'vision', '.'],\n",
              " ['india', 'must', 'stand', 'up', 'to', 'the', 'world', '.'],\n",
              " ['because',\n",
              "  'i',\n",
              "  'believe',\n",
              "  'that',\n",
              "  'unless',\n",
              "  'india',\n",
              "  'stands',\n",
              "  'up',\n",
              "  'to',\n",
              "  'the',\n",
              "  'world',\n",
              "  ',',\n",
              "  'no',\n",
              "  'one',\n",
              "  'will',\n",
              "  'respect',\n",
              "  'us',\n",
              "  '.'],\n",
              " ['only', 'strength', 'respects', 'strength', '.'],\n",
              " ['we',\n",
              "  'must',\n",
              "  'be',\n",
              "  'strong',\n",
              "  'not',\n",
              "  'only',\n",
              "  'as',\n",
              "  'a',\n",
              "  'military',\n",
              "  'power',\n",
              "  'but',\n",
              "  'also',\n",
              "  'as',\n",
              "  'an',\n",
              "  'economic',\n",
              "  'power',\n",
              "  '.'],\n",
              " ['both', 'must', 'go', 'hand-in-hand', '.'],\n",
              " ['my',\n",
              "  'good',\n",
              "  'fortune',\n",
              "  'was',\n",
              "  'to',\n",
              "  'have',\n",
              "  'worked',\n",
              "  'with',\n",
              "  'three',\n",
              "  'great',\n",
              "  'minds',\n",
              "  '.'],\n",
              " ['dr.', 'vikram', 'sarabhai', 'of', 'the', 'dept', '.'],\n",
              " ['of',\n",
              "  'space',\n",
              "  ',',\n",
              "  'professor',\n",
              "  'satish',\n",
              "  'dhawan',\n",
              "  ',',\n",
              "  'who',\n",
              "  'succeeded',\n",
              "  'him',\n",
              "  'and',\n",
              "  'dr.',\n",
              "  'brahm',\n",
              "  'prakash',\n",
              "  ',',\n",
              "  'father',\n",
              "  'of',\n",
              "  'nuclear',\n",
              "  'material',\n",
              "  '.'],\n",
              " ['i',\n",
              "  'was',\n",
              "  'lucky',\n",
              "  'to',\n",
              "  'have',\n",
              "  'worked',\n",
              "  'with',\n",
              "  'all',\n",
              "  'three',\n",
              "  'of',\n",
              "  'them',\n",
              "  'closely',\n",
              "  'and',\n",
              "  'consider',\n",
              "  'this',\n",
              "  'the',\n",
              "  'great',\n",
              "  'opportunity',\n",
              "  'of',\n",
              "  'my',\n",
              "  'life',\n",
              "  '.'],\n",
              " ['i', 'see', 'four', 'milestones', 'in', 'my', 'career']]"
            ]
          },
          "metadata": {},
          "execution_count": 10
        }
      ]
    },
    {
      "cell_type": "code",
      "metadata": {
        "id": "Zly5nb66E3BD"
      },
      "source": [
        "for i in range(len(sentences)):\n",
        "  sentences[i] = [word for word in sentences[i] if word not in set(stopwords.words('english'))]"
      ],
      "execution_count": 11,
      "outputs": []
    },
    {
      "cell_type": "code",
      "metadata": {
        "id": "bWI7AbuiFTis"
      },
      "source": [
        "model = Word2Vec(sentences,min_count= 1)"
      ],
      "execution_count": 12,
      "outputs": []
    },
    {
      "cell_type": "code",
      "metadata": {
        "id": "bAYaO950QLMx"
      },
      "source": [
        ""
      ],
      "execution_count": 12,
      "outputs": []
    },
    {
      "cell_type": "code",
      "metadata": {
        "id": "D9g3XGjxFrJb"
      },
      "source": [
        "words = model.wv.vocab"
      ],
      "execution_count": 13,
      "outputs": []
    },
    {
      "cell_type": "code",
      "metadata": {
        "id": "AUfN9Ni-PsGu",
        "colab": {
          "base_uri": "https://localhost:8080/"
        },
        "outputId": "1119d42f-3988-490b-9cb2-5ff0da46431c"
      },
      "source": [
        "vector = model.wv['war']\n",
        "vector"
      ],
      "execution_count": 16,
      "outputs": [
        {
          "output_type": "execute_result",
          "data": {
            "text/plain": [
              "array([ 2.0106900e-03, -4.5141233e-03,  1.6648251e-03, -2.2895026e-04,\n",
              "       -4.8553557e-03, -1.0063470e-03, -4.0388699e-03, -3.7507808e-03,\n",
              "       -3.1027331e-03,  3.9185518e-03, -3.1232815e-03,  8.1594713e-04,\n",
              "       -3.7781552e-03, -4.1742078e-03,  2.9789922e-03, -4.6811267e-04,\n",
              "        4.1959769e-04,  1.6824240e-03, -2.7102204e-03, -4.6952826e-04,\n",
              "        4.1098688e-03,  1.2032914e-03, -4.5269500e-03, -3.3676680e-03,\n",
              "       -2.8820770e-04, -3.5612346e-03, -1.9862943e-03,  4.8864046e-03,\n",
              "       -2.4118028e-03, -3.6569405e-03, -4.2235642e-03, -3.5762046e-03,\n",
              "       -4.9352329e-03,  8.3406799e-04,  3.7007239e-03, -1.8628930e-03,\n",
              "       -3.9417783e-04,  4.2826566e-03, -3.8418339e-03,  3.3514134e-03,\n",
              "        1.2309533e-03, -6.3410046e-04, -1.5556498e-03,  3.7832435e-03,\n",
              "        1.6949218e-03,  4.7036577e-03,  2.9391632e-03,  2.8604877e-03,\n",
              "       -1.6351270e-04, -4.9022022e-03,  7.7274133e-04, -7.9647527e-04,\n",
              "        6.6159182e-04,  1.5759245e-03, -4.7921664e-03,  3.2736431e-03,\n",
              "        3.2927711e-03,  6.3467573e-04, -1.8897272e-03,  1.1541531e-03,\n",
              "       -2.3648057e-03,  4.5409924e-03, -3.0719668e-03, -4.5172732e-05,\n",
              "       -3.4001844e-03,  1.8495822e-03, -2.6526002e-03,  4.0125716e-03,\n",
              "        4.3602977e-03,  3.4089840e-04, -1.4135096e-03,  2.7263516e-03,\n",
              "       -3.1932637e-03,  1.3654538e-03,  1.9438738e-04,  4.6577640e-03,\n",
              "       -1.2337250e-03,  3.2453570e-03,  3.2225749e-03,  4.4916254e-03,\n",
              "        3.9215474e-03, -5.1832997e-04, -5.3454243e-04, -2.7556804e-03,\n",
              "       -1.1161318e-03, -3.2710892e-03, -2.7691911e-03, -4.5897639e-03,\n",
              "       -2.2086713e-03,  4.7699319e-05,  3.0256815e-03, -1.3828423e-04,\n",
              "       -4.9602718e-04, -4.4539929e-03,  2.5246574e-03,  3.8023037e-03,\n",
              "       -8.8359008e-04,  1.1821156e-03,  1.6800138e-03,  8.3634414e-04],\n",
              "      dtype=float32)"
            ]
          },
          "metadata": {},
          "execution_count": 16
        }
      ]
    },
    {
      "cell_type": "code",
      "metadata": {
        "id": "orlr73xlP7gW",
        "colab": {
          "base_uri": "https://localhost:8080/"
        },
        "outputId": "7c8d4a38-a4ac-4c9a-8fe5-2e485d0d763f"
      },
      "source": [
        "similar = model.wv.most_similar('career')\n",
        "similar"
      ],
      "execution_count": 18,
      "outputs": [
        {
          "output_type": "execute_result",
          "data": {
            "text/plain": [
              "[('great', 0.1975000649690628),\n",
              " ('grabbed', 0.18928119540214539),\n",
              " ('onwards', 0.18111637234687805),\n",
              " ('lands', 0.18084760010242462),\n",
              " ('people', 0.17110267281532288),\n",
              " ('culture', 0.16953667998313904),\n",
              " ('conquered', 0.16517916321754456),\n",
              " ('must', 0.1539439857006073),\n",
              " ('closely', 0.13308008015155792),\n",
              " ('economic', 0.12770578265190125)]"
            ]
          },
          "metadata": {},
          "execution_count": 18
        }
      ]
    },
    {
      "cell_type": "code",
      "metadata": {
        "id": "b-PztehTSi-7"
      },
      "source": [
        ""
      ],
      "execution_count": null,
      "outputs": []
    }
  ]
}